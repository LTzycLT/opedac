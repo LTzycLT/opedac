{
 "cells": [
  {
   "cell_type": "code",
   "execution_count": 1,
   "metadata": {},
   "outputs": [],
   "source": [
    "import json"
   ]
  },
  {
   "cell_type": "code",
   "execution_count": 2,
   "metadata": {},
   "outputs": [],
   "source": [
    "train = json.load(open('data/pubs_train.json'))"
   ]
  },
  {
   "cell_type": "code",
   "execution_count": 3,
   "metadata": {},
   "outputs": [],
   "source": [
    "train_result = json.load(open(\"data/assignment_train.json\"))"
   ]
  },
  {
   "cell_type": "code",
   "execution_count": 4,
   "metadata": {},
   "outputs": [],
   "source": [
    "validate = json.load(open('data/pubs_validate.json'))"
   ]
  },
  {
   "cell_type": "code",
   "execution_count": 58,
   "metadata": {},
   "outputs": [],
   "source": [
    "train_index = defaultdict(lambda: defaultdict(int))\n",
    "for key, papers in train.iteritems():\n",
    "    for idx, paper in enumerate(papers):\n",
    "        train_index[key][paper['id']] = idx"
   ]
  },
  {
   "cell_type": "code",
   "execution_count": 59,
   "metadata": {},
   "outputs": [
    {
     "data": {
      "text/plain": [
       "[u'title', u'abstract', u'authors', u'venue', u'year', u'keywords', u'id']"
      ]
     },
     "execution_count": 59,
     "metadata": {},
     "output_type": "execute_result"
    }
   ],
   "source": [
    "train['jie_zhu'][0].keys()"
   ]
  },
  {
   "cell_type": "code",
   "execution_count": 75,
   "metadata": {},
   "outputs": [
    {
     "data": {
      "text/plain": [
       "u'5bc6bfdd486cef66309ef962'"
      ]
     },
     "execution_count": 75,
     "metadata": {},
     "output_type": "execute_result"
    }
   ],
   "source": [
    "train['jie_zhu'][10]['id']"
   ]
  },
  {
   "cell_type": "code",
   "execution_count": 81,
   "metadata": {},
   "outputs": [],
   "source": [
    "class UnioFind:\n",
    "    def __init__(self):\n",
    "        self.f = {}\n",
    "        \n",
    "    def find(self, u):\n",
    "        if self.f[u] == u:\n",
    "            return u\n",
    "        else:\n",
    "            self.f[u] = self.find(self.f[u])\n",
    "            return self.f[u]\n",
    "    \n",
    "    def merge(self, u, v):\n",
    "        if u not in self.f: self.f[u] = u\n",
    "        if v not in self.f: self.f[v] = v\n",
    "        fu = self.find(u)\n",
    "        fv = self.find(v)\n",
    "        self.f[fu] = fv\n",
    "        \n",
    "    def add_group(self, ids):\n",
    "        ids = list(ids)\n",
    "        for i in range(1, len(ids)):\n",
    "            self.merge(ids[0], ids[i])\n",
    "    \n",
    "    def finish(self):\n",
    "        for key in self.f:\n",
    "            self.find(key)\n",
    "        r = defaultdict(list)\n",
    "        for key in self.f:\n",
    "            if key.startswith(\"id_\"):\n",
    "                r[self.f[key]].append(key.split(\"_\")[1])\n",
    "        return r"
   ]
  },
  {
   "cell_type": "code",
   "execution_count": 110,
   "metadata": {},
   "outputs": [
    {
     "data": {
      "application/vnd.jupyter.widget-view+json": {
       "model_id": "d8acffee22ae430ab9e4a2ac0bc4793f",
       "version_major": 2,
       "version_minor": 0
      },
      "text/plain": [
       "HBox(children=(IntProgress(value=0), HTML(value=u'')))"
      ]
     },
     "metadata": {},
     "output_type": "display_data"
    }
   ],
   "source": [
    "from collections import defaultdict\n",
    "result = {}\n",
    "for ruser, papers in tqdm(train.iteritems(), total=len(train)):\n",
    "    s = UnioFind()\n",
    "    user = process_name(ruser)\n",
    "    for paper in papers:\n",
    "        group = set()\n",
    "        for author in paper['authors']:\n",
    "            coop_name = process_name(author['name'])\n",
    "            if coop_name == user:\n",
    "                group.add('id_' + paper['id'])\n",
    "            else:\n",
    "                group.add(coop_name)\n",
    "        s.add_group(group)\n",
    "    result[ruser] = [ss for _, ss in s.finish().iteritems()]"
   ]
  },
  {
   "cell_type": "code",
   "execution_count": 108,
   "metadata": {},
   "outputs": [],
   "source": [
    "from tqdm import tqdm_notebook as tqdm"
   ]
  },
  {
   "cell_type": "code",
   "execution_count": null,
   "metadata": {},
   "outputs": [],
   "source": []
  },
  {
   "cell_type": "code",
   "execution_count": 91,
   "metadata": {},
   "outputs": [],
   "source": [
    "def process_name(name):\n",
    "    return name.replace(\"-\", \"\").replace(\".\", \"\").replace(\" \", \"\").replace(\"_\", \"\").lower()"
   ]
  },
  {
   "cell_type": "code",
   "execution_count": 113,
   "metadata": {},
   "outputs": [
    {
     "data": {
      "application/vnd.jupyter.widget-view+json": {
       "model_id": "c73bcdca5f9e4af09fcad4bb957d81d3",
       "version_major": 2,
       "version_minor": 0
      },
      "text/plain": [
       "HBox(children=(IntProgress(value=0), HTML(value=u'')))"
      ]
     },
     "metadata": {},
     "output_type": "display_data"
    }
   ],
   "source": [
    "from collections import defaultdict\n",
    "result = {}\n",
    "for ruser, papers in tqdm(train.iteritems(), total=len(train)):\n",
    "    s = defaultdict(list)\n",
    "    user = process_name(ruser)\n",
    "    for paper in papers:\n",
    "        org = -1\n",
    "        for author in paper['authors']:\n",
    "            if process_name(author['name']) == user:\n",
    "                org = author['org'].lower()\n",
    "        if org == -1:\n",
    "            print(user)\n",
    "            print(paper['authors'])\n",
    "            assert(False)\n",
    "        s[org].append(paper['id'])\n",
    "    result[ruser] = [list(ss) for _, ss in s.iteritems()]"
   ]
  },
  {
   "cell_type": "code",
   "execution_count": 105,
   "metadata": {},
   "outputs": [],
   "source": [
    "from __future__ import print_function\n",
    "with open(\"result.json\", \"w\") as fout:\n",
    "    print(json.dumps(result, indent=4, sort_keys=True), file=fout)"
   ]
  },
  {
   "cell_type": "code",
   "execution_count": 101,
   "metadata": {},
   "outputs": [
    {
     "data": {
      "text/plain": [
       "203"
      ]
     },
     "execution_count": 101,
     "metadata": {},
     "output_type": "execute_result"
    }
   ],
   "source": [
    "len(result['jie_zhu'])"
   ]
  },
  {
   "cell_type": "code",
   "execution_count": 114,
   "metadata": {
    "scrolled": true
   },
   "outputs": [
    {
     "name": "stdout",
     "output_type": "stream",
     "text": [
      "0.156316916488 0.336405529954 0.440801457195\n",
      "0.160714285714 0.416299559471 0.213450292398\n",
      "0.265682656827 0.274809160305 0.231901840491\n",
      "0.153034300792 0.418772563177 0.270168855535\n",
      "0.210455764075 0.428961748634 0.224154589372\n",
      "0.220606060606 0.40990990991 0.282374100719\n",
      "0.200348432056 0.399305555556 0.286840031521\n",
      "0.347058823529 0.498591549296 0.266821345708\n",
      "0.237250554324 0.445833333333 0.409248554913\n",
      "0.167330677291 0.4 0.309696092619\n",
      "0.21704745167 0.454880294659 0.23595505618\n",
      "0.180527383367 0.349019607843 0.293872694825\n",
      "0.184170471842 0.398026315789 0.237967914439\n",
      "0.199753390875 0.435483870968 0.251821019771\n",
      "0.204690831557 0.432432432432 0.273879966188\n",
      "0.378723404255 0.445742904841 0.277858176556\n",
      "0.211974110032 0.376436781609 0.409509202454\n",
      "0.187837837838 0.437106918239 0.271221532091\n",
      "0.355086372361 0.488126649077 0.262759924386\n",
      "0.452380952381 0.485519591141 0.411111111111\n",
      "0.463157894737 0.543209876543 0.468364831553\n",
      "0.165728077233 0.367201426025 0.5\n",
      "0.416666666667 0.54012345679 0.228381374723\n",
      "0.415384615385 0.507518796992 0.470430107527\n",
      "0.194701986755 0.411764705882 0.456852791878\n",
      "0.214953271028 0.40350877193 0.264388489209\n",
      "0.15191740413 0.378676470588 0.280487804878\n",
      "0.216962524655 0.478260869565 0.216842105263\n",
      "0.112264150943 0.421985815603 0.298507462687\n",
      "0.363354037267 0.527027027027 0.177347242921\n",
      "0.44 0.276150627615 0.430147058824\n",
      "0.279452054795 0.395348837209 0.339331619537\n",
      "0.502994011976 0.507552870091 0.327447833066\n",
      "0.102669404517 0.429184549356 0.505263157895\n",
      "0.197836166924 0.460431654676 0.16570008285\n",
      "0.16646562123 0.425925925926 0.276756756757\n",
      "0.422471910112 0.554572271386 0.239375542064\n",
      "0.261121856867 0.420560747664 0.479591836735\n",
      "0.205240174672 0.405172413793 0.322195704057\n",
      "0.135623869801 0.289575289575 0.272463768116\n",
      "0.405660377358 0.551282051282 0.184729064039\n",
      "0.145038167939 0.414847161572 0.467391304348\n",
      "0.432989690722 0.274509803922 0.214932126697\n",
      "0.215077605322 0.264305177112 0.336\n",
      "0.211462450593 0.507109004739 0.237163814181\n",
      "0.212 0.419525065963 0.298465829847\n",
      "0.208494208494 0.495412844037 0.281665190434\n",
      "0.194293478261 0.397222222222 0.29347826087\n",
      "0.212609970674 0.422740524781 0.260948905109\n",
      "0.239892183288 0.412037037037 0.282926829268\n",
      "0.277192982456 0.233727810651 0.303236797274\n",
      "0.221761658031 0.453389830508 0.253611556982\n",
      "0.162481536189 0.47619047619 0.297842727905\n",
      "0.184306569343 0.407258064516 0.242290748899\n",
      "0.178343949045 0.331753554502 0.253768844221\n",
      "0.188180404355 0.436823104693 0.23198011599\n",
      "0.219607843137 0.380952380952 0.263043478261\n",
      "0.14788097385 0.384074941452 0.278606965174\n",
      "0.482608695652 0.528571428571 0.213541666667\n",
      "0.419075144509 0.480132450331 0.504545454545\n",
      "0.197324414716 0.440298507463 0.447530864198\n",
      "0.162241887906 0.345188284519 0.272517321016\n",
      "0.303405572755 0.433628318584 0.220735785953\n",
      "0.0929507174049 0.448795180723 0.357012750455\n",
      "0.238307349666 0.42125984252 0.154005167959\n",
      "0.196248196248 0.478873239437 0.304409672831\n",
      "0.176184690158 0.5 0.278403275333\n",
      "0.199655765921 0.465863453815 0.26055705301\n",
      "0.150763358779 0.355855855856 0.279518072289\n",
      "0.212727272727 0.407665505226 0.211796246649\n",
      "0.177625122669 0.344106463878 0.279569892473\n",
      "0.155268022181 0.37668161435 0.23430420712\n",
      "0.54296875 0.596566523605 0.219895287958\n",
      "0.189349112426 0.384384384384 0.568507157464\n",
      "0.198945981555 0.371007371007 0.253716551041\n",
      "0.206896551724 0.464285714286 0.259005145798\n",
      "0.216814159292 0.445454545455 0.28623853211\n",
      "0.23155216285 0.427230046948 0.291666666667\n",
      "0.605691056911 0.399463806971 0.300330033003\n",
      "0.198312236287 0.44976076555 0.481421647819\n",
      "0.175438596491 0.439367311072 0.275256222548\n",
      "0.135623869801 0.5 0.25075225677\n",
      "0.411575562701 0.465454545455 0.213371266003\n",
      "0.301927194861 0.323394495413 0.436860068259\n",
      "0.236334405145 0.442771084337 0.312292358804\n",
      "0.208374875374 0.379310344828 0.308176100629\n",
      "0.18045112782 0.412371134021 0.268983268983\n",
      "0.21412803532 0.346428571429 0.251046025105\n",
      "0.217391304348 0.473684210526 0.264665757162\n",
      "0.198996655518 0.397993311037 0.298013245033\n",
      "0.120289855072 0.35775862069 0.265328874025\n",
      "0.383561643836 0.498220640569 0.180043383948\n",
      "0.0888217522659 0.396226415094 0.433436532508\n",
      "0.197674418605 0.405727923628 0.145113524186\n",
      "0.475 0.551612903226 0.265832681783\n",
      "0.269841269841 0.333333333333 0.510447761194\n",
      "0.19089900111 0.516516516517 0.298245614035\n",
      "0.217798594848 0.390756302521 0.278768233387\n",
      "0.395424836601 0.480158730159 0.27969924812\n",
      "0.261111111111 0.468438538206 0.433691756272\n"
     ]
    }
   ],
   "source": [
    "def l2s(ll):\n",
    "    return set([tuple(sorted(l)) for l in ll])\n",
    "\n",
    "Fall = 0\n",
    "for key in train_result.keys():\n",
    "    predict = l2s(result[key])\n",
    "    real = l2s(train_result[key])\n",
    "    same = len(predict & real)\n",
    "    if same == 0:\n",
    "        F = 0\n",
    "    else:\n",
    "        P = same * 1.0 / len(predict)\n",
    "        R = same * 1.0 / len(real)\n",
    "        print(P, R, F)\n",
    "        F = 2.0 / (1.0 / P + 1.0 / R)\n",
    "    Fall += F\n",
    "Favg = Fall / len(train_result)"
   ]
  },
  {
   "cell_type": "code",
   "execution_count": 103,
   "metadata": {},
   "outputs": [
    {
     "data": {
      "text/plain": [
       "0.3478783887651125"
      ]
     },
     "execution_count": 103,
     "metadata": {},
     "output_type": "execute_result"
    }
   ],
   "source": [
    "Favg"
   ]
  },
  {
   "cell_type": "code",
   "execution_count": null,
   "metadata": {},
   "outputs": [],
   "source": []
  }
 ],
 "metadata": {
  "kernelspec": {
   "display_name": "Python 2",
   "language": "python",
   "name": "python2"
  },
  "language_info": {
   "codemirror_mode": {
    "name": "ipython",
    "version": 2
   },
   "file_extension": ".py",
   "mimetype": "text/x-python",
   "name": "python",
   "nbconvert_exporter": "python",
   "pygments_lexer": "ipython2",
   "version": "2.7.15"
  }
 },
 "nbformat": 4,
 "nbformat_minor": 2
}
